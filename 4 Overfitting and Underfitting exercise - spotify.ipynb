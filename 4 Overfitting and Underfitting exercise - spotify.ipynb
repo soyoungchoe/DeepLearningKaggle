{
 "cells": [
  {
   "cell_type": "markdown",
   "metadata": {},
   "source": [
    "# Overfitting and Underfitting\n",
    "Kaggle exercise for deep learning course.\n",
    "\n",
    "tutorial: https://www.kaggle.com/code/ryanholbrook/overfitting-and-underfitting/tutorial"
   ]
  },
  {
   "cell_type": "code",
   "execution_count": 2,
   "metadata": {},
   "outputs": [
    {
     "data": {
      "text/html": [
       "<div>\n",
       "<style scoped>\n",
       "    .dataframe tbody tr th:only-of-type {\n",
       "        vertical-align: middle;\n",
       "    }\n",
       "\n",
       "    .dataframe tbody tr th {\n",
       "        vertical-align: top;\n",
       "    }\n",
       "\n",
       "    .dataframe thead th {\n",
       "        text-align: right;\n",
       "    }\n",
       "</style>\n",
       "<table border=\"1\" class=\"dataframe\">\n",
       "  <thead>\n",
       "    <tr style=\"text-align: right;\">\n",
       "      <th></th>\n",
       "      <th>track_id</th>\n",
       "      <th>track_name</th>\n",
       "      <th>track_artist</th>\n",
       "      <th>track_popularity</th>\n",
       "      <th>track_album_id</th>\n",
       "      <th>track_album_name</th>\n",
       "      <th>track_album_release_date</th>\n",
       "      <th>playlist_name</th>\n",
       "      <th>playlist_id</th>\n",
       "      <th>playlist_genre</th>\n",
       "      <th>...</th>\n",
       "      <th>key</th>\n",
       "      <th>loudness</th>\n",
       "      <th>mode</th>\n",
       "      <th>speechiness</th>\n",
       "      <th>acousticness</th>\n",
       "      <th>instrumentalness</th>\n",
       "      <th>liveness</th>\n",
       "      <th>valence</th>\n",
       "      <th>tempo</th>\n",
       "      <th>duration_ms</th>\n",
       "    </tr>\n",
       "  </thead>\n",
       "  <tbody>\n",
       "    <tr>\n",
       "      <th>0</th>\n",
       "      <td>6f807x0ima9a1j3VPbc7VN</td>\n",
       "      <td>I Don't Care (with Justin Bieber) - Loud Luxur...</td>\n",
       "      <td>Ed Sheeran</td>\n",
       "      <td>66</td>\n",
       "      <td>2oCs0DGTsRO98Gh5ZSl2Cx</td>\n",
       "      <td>I Don't Care (with Justin Bieber) [Loud Luxury...</td>\n",
       "      <td>2019-06-14</td>\n",
       "      <td>Pop Remix</td>\n",
       "      <td>37i9dQZF1DXcZDD7cfEKhW</td>\n",
       "      <td>pop</td>\n",
       "      <td>...</td>\n",
       "      <td>6</td>\n",
       "      <td>-2.634</td>\n",
       "      <td>1</td>\n",
       "      <td>0.0583</td>\n",
       "      <td>0.1020</td>\n",
       "      <td>0.000000</td>\n",
       "      <td>0.0653</td>\n",
       "      <td>0.518</td>\n",
       "      <td>122.036</td>\n",
       "      <td>194754</td>\n",
       "    </tr>\n",
       "    <tr>\n",
       "      <th>1</th>\n",
       "      <td>0r7CVbZTWZgbTCYdfa2P31</td>\n",
       "      <td>Memories - Dillon Francis Remix</td>\n",
       "      <td>Maroon 5</td>\n",
       "      <td>67</td>\n",
       "      <td>63rPSO264uRjW1X5E6cWv6</td>\n",
       "      <td>Memories (Dillon Francis Remix)</td>\n",
       "      <td>2019-12-13</td>\n",
       "      <td>Pop Remix</td>\n",
       "      <td>37i9dQZF1DXcZDD7cfEKhW</td>\n",
       "      <td>pop</td>\n",
       "      <td>...</td>\n",
       "      <td>11</td>\n",
       "      <td>-4.969</td>\n",
       "      <td>1</td>\n",
       "      <td>0.0373</td>\n",
       "      <td>0.0724</td>\n",
       "      <td>0.004210</td>\n",
       "      <td>0.3570</td>\n",
       "      <td>0.693</td>\n",
       "      <td>99.972</td>\n",
       "      <td>162600</td>\n",
       "    </tr>\n",
       "    <tr>\n",
       "      <th>2</th>\n",
       "      <td>1z1Hg7Vb0AhHDiEmnDE79l</td>\n",
       "      <td>All the Time - Don Diablo Remix</td>\n",
       "      <td>Zara Larsson</td>\n",
       "      <td>70</td>\n",
       "      <td>1HoSmj2eLcsrR0vE9gThr4</td>\n",
       "      <td>All the Time (Don Diablo Remix)</td>\n",
       "      <td>2019-07-05</td>\n",
       "      <td>Pop Remix</td>\n",
       "      <td>37i9dQZF1DXcZDD7cfEKhW</td>\n",
       "      <td>pop</td>\n",
       "      <td>...</td>\n",
       "      <td>1</td>\n",
       "      <td>-3.432</td>\n",
       "      <td>0</td>\n",
       "      <td>0.0742</td>\n",
       "      <td>0.0794</td>\n",
       "      <td>0.000023</td>\n",
       "      <td>0.1100</td>\n",
       "      <td>0.613</td>\n",
       "      <td>124.008</td>\n",
       "      <td>176616</td>\n",
       "    </tr>\n",
       "    <tr>\n",
       "      <th>3</th>\n",
       "      <td>75FpbthrwQmzHlBJLuGdC7</td>\n",
       "      <td>Call You Mine - Keanu Silva Remix</td>\n",
       "      <td>The Chainsmokers</td>\n",
       "      <td>60</td>\n",
       "      <td>1nqYsOef1yKKuGOVchbsk6</td>\n",
       "      <td>Call You Mine - The Remixes</td>\n",
       "      <td>2019-07-19</td>\n",
       "      <td>Pop Remix</td>\n",
       "      <td>37i9dQZF1DXcZDD7cfEKhW</td>\n",
       "      <td>pop</td>\n",
       "      <td>...</td>\n",
       "      <td>7</td>\n",
       "      <td>-3.778</td>\n",
       "      <td>1</td>\n",
       "      <td>0.1020</td>\n",
       "      <td>0.0287</td>\n",
       "      <td>0.000009</td>\n",
       "      <td>0.2040</td>\n",
       "      <td>0.277</td>\n",
       "      <td>121.956</td>\n",
       "      <td>169093</td>\n",
       "    </tr>\n",
       "    <tr>\n",
       "      <th>4</th>\n",
       "      <td>1e8PAfcKUYoKkxPhrHqw4x</td>\n",
       "      <td>Someone You Loved - Future Humans Remix</td>\n",
       "      <td>Lewis Capaldi</td>\n",
       "      <td>69</td>\n",
       "      <td>7m7vv9wlQ4i0LFuJiE2zsQ</td>\n",
       "      <td>Someone You Loved (Future Humans Remix)</td>\n",
       "      <td>2019-03-05</td>\n",
       "      <td>Pop Remix</td>\n",
       "      <td>37i9dQZF1DXcZDD7cfEKhW</td>\n",
       "      <td>pop</td>\n",
       "      <td>...</td>\n",
       "      <td>1</td>\n",
       "      <td>-4.672</td>\n",
       "      <td>1</td>\n",
       "      <td>0.0359</td>\n",
       "      <td>0.0803</td>\n",
       "      <td>0.000000</td>\n",
       "      <td>0.0833</td>\n",
       "      <td>0.725</td>\n",
       "      <td>123.976</td>\n",
       "      <td>189052</td>\n",
       "    </tr>\n",
       "  </tbody>\n",
       "</table>\n",
       "<p>5 rows × 23 columns</p>\n",
       "</div>"
      ],
      "text/plain": [
       "                 track_id                                         track_name  \\\n",
       "0  6f807x0ima9a1j3VPbc7VN  I Don't Care (with Justin Bieber) - Loud Luxur...   \n",
       "1  0r7CVbZTWZgbTCYdfa2P31                    Memories - Dillon Francis Remix   \n",
       "2  1z1Hg7Vb0AhHDiEmnDE79l                    All the Time - Don Diablo Remix   \n",
       "3  75FpbthrwQmzHlBJLuGdC7                  Call You Mine - Keanu Silva Remix   \n",
       "4  1e8PAfcKUYoKkxPhrHqw4x            Someone You Loved - Future Humans Remix   \n",
       "\n",
       "       track_artist  track_popularity          track_album_id  \\\n",
       "0        Ed Sheeran                66  2oCs0DGTsRO98Gh5ZSl2Cx   \n",
       "1          Maroon 5                67  63rPSO264uRjW1X5E6cWv6   \n",
       "2      Zara Larsson                70  1HoSmj2eLcsrR0vE9gThr4   \n",
       "3  The Chainsmokers                60  1nqYsOef1yKKuGOVchbsk6   \n",
       "4     Lewis Capaldi                69  7m7vv9wlQ4i0LFuJiE2zsQ   \n",
       "\n",
       "                                    track_album_name track_album_release_date  \\\n",
       "0  I Don't Care (with Justin Bieber) [Loud Luxury...               2019-06-14   \n",
       "1                    Memories (Dillon Francis Remix)               2019-12-13   \n",
       "2                    All the Time (Don Diablo Remix)               2019-07-05   \n",
       "3                        Call You Mine - The Remixes               2019-07-19   \n",
       "4            Someone You Loved (Future Humans Remix)               2019-03-05   \n",
       "\n",
       "  playlist_name             playlist_id playlist_genre  ... key  loudness  \\\n",
       "0     Pop Remix  37i9dQZF1DXcZDD7cfEKhW            pop  ...   6    -2.634   \n",
       "1     Pop Remix  37i9dQZF1DXcZDD7cfEKhW            pop  ...  11    -4.969   \n",
       "2     Pop Remix  37i9dQZF1DXcZDD7cfEKhW            pop  ...   1    -3.432   \n",
       "3     Pop Remix  37i9dQZF1DXcZDD7cfEKhW            pop  ...   7    -3.778   \n",
       "4     Pop Remix  37i9dQZF1DXcZDD7cfEKhW            pop  ...   1    -4.672   \n",
       "\n",
       "   mode  speechiness  acousticness  instrumentalness  liveness  valence  \\\n",
       "0     1       0.0583        0.1020          0.000000    0.0653    0.518   \n",
       "1     1       0.0373        0.0724          0.004210    0.3570    0.693   \n",
       "2     0       0.0742        0.0794          0.000023    0.1100    0.613   \n",
       "3     1       0.1020        0.0287          0.000009    0.2040    0.277   \n",
       "4     1       0.0359        0.0803          0.000000    0.0833    0.725   \n",
       "\n",
       "     tempo  duration_ms  \n",
       "0  122.036       194754  \n",
       "1   99.972       162600  \n",
       "2  124.008       176616  \n",
       "3  121.956       169093  \n",
       "4  123.976       189052  \n",
       "\n",
       "[5 rows x 23 columns]"
      ]
     },
     "execution_count": 2,
     "metadata": {},
     "output_type": "execute_result"
    }
   ],
   "source": [
    "import pandas as pd \n",
    "from sklearn.preprocessing import StandardScaler, OneHotEncoder\n",
    "from sklearn.compose import make_column_transformer\n",
    "from sklearn.model_selection import GroupShuffleSplit \n",
    "\n",
    "from tensorflow import keras\n",
    "from tensorflow.keras import layers\n",
    "from tensorflow.keras import callbacks\n",
    "\n",
    "spotify = pd.read_csv('spotify.csv')\n",
    "\n",
    "X = spotify.copy().dropna()\n",
    "y = X.pop('track_popularity')\n",
    "artists = X['track_artist']\n",
    "\n",
    "features_num = ['danceability', 'energy', 'key', 'loudness', 'mode',\n",
    "                'speechiness', 'acousticness', 'instrumentalness',\n",
    "                'liveness', 'valence', 'tempo', 'duration_ms']\n",
    "features_cat = ['playlist_genre']\n",
    "\n",
    "preprocessor = make_column_transformer(\n",
    "    (StandardScaler(), features_num),\n",
    "    (OneHotEncoder(), features_cat),\n",
    ")\n",
    "\n",
    "spotify.head()\n",
    "\n"
   ]
  },
  {
   "cell_type": "markdown",
   "metadata": {},
   "source": [
    "### Define grooup split\n",
    " \"grouped\" split to keep all of an aritst's songs in one\n",
    " split or the other. This is to help prevent signal leakage \n",
    "\n",
    " #### asked ChatGPT about group split: \n",
    " - group_split is used for splitting data into training and testing sets, but with a special consideration for grouping. This is often useful in scenarios where there's a risk of data leakage across groups.\n",
    " - purpose: to ensure that all data points belonging to the same group (e.g., songs from the same artist) are either in the training set or the testing set, but not both. This helps prevent potential data leakage issues that could arise if information from the same group is present in both the training and testing sets.\n",
    " - why are same group kept together either the training set or the testing set?\n",
    " This is particularly useful in scenarios where you want to avoid potential information leakage across groups. \n",
    " For example, if you're working with a dataset where each group represents a specific artist and you want to train a model to recognize patterns within each artist's work, it makes sense to keep all songs from a particular artist either in the training set or the testing set. This way, the model is evaluated on unseen data (songs from artists it hasn't been trained on), providing a more realistic assessment of its generalization performance. \n",
    " The goal is to simulate a real-world scenario where the model needs to perform well on new, unseen instances of each group. By keeping all instances of a group together, the model is less likely to inadvertently learn patterns specific to that group during training, which could result in overly optimistic performance during testing.\n",
    "\n",
    "\n",
    "\n",
    "\n",
    "\n",
    "\n",
    "\n"
   ]
  },
  {
   "cell_type": "code",
   "execution_count": 3,
   "metadata": {},
   "outputs": [
    {
     "name": "stdout",
     "output_type": "stream",
     "text": [
      "Input shape: [18]\n"
     ]
    }
   ],
   "source": [
    "def group_split(X, y, group, train_size=0.75):\n",
    "    splitter = GroupShuffleSplit(train_size=train_size)\n",
    "    train, test = next(splitter.split(X, y, groups=group))\n",
    "    return (X.iloc[train], X.iloc[test], y.iloc[train], y.iloc[test])\n",
    "\n",
    "X_train, X_valid, y_train, y_valid = group_split(X, y, artists)\n",
    "\n",
    "X_train = preprocessor.fit_transform(X_train)\n",
    "X_valid = preprocessor.transform(X_valid)\n",
    "y_train = y_train / 100 # popularity is on a scale 0-100, so this rescales to 0-1.\n",
    "y_valid = y_valid / 100 \n",
    "\n",
    "input_shape = [X_train.shape[1]]\n",
    "print(\"Input shape: {}\".format(input_shape))"
   ]
  },
  {
   "cell_type": "markdown",
   "metadata": {},
   "source": [
    "### Train a linear model \n",
    "Starting with the simplest network, a linear model. \n",
    "This model has low capacity. "
   ]
  },
  {
   "cell_type": "code",
   "execution_count": 4,
   "metadata": {},
   "outputs": [
    {
     "name": "stdout",
     "output_type": "stream",
     "text": [
      "Minimum Validation Loss: 0.1917\n"
     ]
    },
    {
     "data": {
      "image/png": "[encoded data removed]",
      "text/plain": [
       "<Figure size 640x480 with 1 Axes>"
      ]
     },
     "metadata": {},
     "output_type": "display_data"
    }
   ],
   "source": [
    "model = keras.Sequential([\n",
    "    layers.Dense(1, input_shape=input_shape),\n",
    "])\n",
    "model.compile(\n",
    "    optimizer='adam',\n",
    "    loss='mae',\n",
    ")\n",
    "history = model.fit(\n",
    "    X_train, y_train,\n",
    "    validation_data=(X_valid, y_valid),\n",
    "    batch_size = 512,\n",
    "    epochs = 50,\n",
    "    verbose = 0,  # Suppress output since I will plot the curves\n",
    ")\n",
    "history_df = pd.DataFrame(history.history)\n",
    "history_df.loc[0:, ['loss', 'val_loss']].plot()\n",
    "print(\"Minimum Validation Loss: {:0.4f}\".format(history_df['val_loss'].min()));"
   ]
  },
  {
   "cell_type": "markdown",
   "metadata": {},
   "source": [
    "Since this hockey stick shape is hard to see, I changed epoch to 10 instead"
   ]
  },
  {
   "cell_type": "code",
   "execution_count": 5,
   "metadata": {},
   "outputs": [
    {
     "name": "stdout",
     "output_type": "stream",
     "text": [
      "Minimum Validation Loss: 0.1917\n"
     ]
    },
    {
     "data": {
      "image/png": "[encoded data removed]",
      "text/plain": [
       "<Figure size 640x480 with 1 Axes>"
      ]
     },
     "metadata": {},
     "output_type": "display_data"
    }
   ],
   "source": [
    "history_df.loc[10:, ['loss', 'val_loss']].plot()\n",
    "print(\"Minimum Validation Loss: {:0.4f}\".format(history_df['val_loss'].min()))"
   ]
  },
  {
   "cell_type": "markdown",
   "metadata": {},
   "source": [
    "The gap between these curves is quite small and the validation loss never increases, so it's more likley that the network is underfitting than overfitting. It would be worth experimenting with more capacity to wee if that's the case. \n",
    "\n",
    "In the next code, I am adding some capacity to the network: add three layers with 128 units each. "
   ]
  },
  {
   "cell_type": "code",
   "execution_count": 6,
   "metadata": {},
   "outputs": [
    {
     "name": "stdout",
     "output_type": "stream",
     "text": [
      "Epoch 1/50\n",
      "48/48 [==============================] - 2s 16ms/step - loss: 0.2429 - val_loss: 0.2029\n",
      "Epoch 2/50\n",
      "48/48 [==============================] - 0s 5ms/step - loss: 0.2028 - val_loss: 0.1972\n",
      "Epoch 3/50\n",
      "48/48 [==============================] - 0s 5ms/step - loss: 0.1979 - val_loss: 0.1951\n",
      "Epoch 4/50\n",
      "48/48 [==============================] - 0s 6ms/step - loss: 0.1953 - val_loss: 0.1929\n",
      "Epoch 5/50\n",
      "48/48 [==============================] - 0s 7ms/step - loss: 0.1930 - val_loss: 0.1919\n",
      "Epoch 6/50\n",
      "48/48 [==============================] - 0s 6ms/step - loss: 0.1917 - val_loss: 0.1924\n",
      "Epoch 7/50\n",
      "48/48 [==============================] - 0s 5ms/step - loss: 0.1903 - val_loss: 0.1921\n",
      "Epoch 8/50\n",
      "48/48 [==============================] - 0s 6ms/step - loss: 0.1889 - val_loss: 0.1908\n",
      "Epoch 9/50\n",
      "48/48 [==============================] - 0s 7ms/step - loss: 0.1883 - val_loss: 0.1915\n",
      "Epoch 10/50\n",
      "48/48 [==============================] - 0s 6ms/step - loss: 0.1875 - val_loss: 0.1905\n",
      "Epoch 11/50\n",
      "48/48 [==============================] - 0s 7ms/step - loss: 0.1862 - val_loss: 0.1912\n",
      "Epoch 12/50\n",
      "48/48 [==============================] - 0s 6ms/step - loss: 0.1860 - val_loss: 0.1917\n",
      "Epoch 13/50\n",
      "48/48 [==============================] - 0s 7ms/step - loss: 0.1847 - val_loss: 0.1914\n",
      "Epoch 14/50\n",
      "48/48 [==============================] - 0s 6ms/step - loss: 0.1844 - val_loss: 0.1915\n",
      "Epoch 15/50\n",
      "48/48 [==============================] - 0s 7ms/step - loss: 0.1838 - val_loss: 0.1917\n",
      "Epoch 16/50\n",
      "48/48 [==============================] - 0s 7ms/step - loss: 0.1828 - val_loss: 0.1913\n",
      "Epoch 17/50\n",
      "48/48 [==============================] - 0s 7ms/step - loss: 0.1825 - val_loss: 0.1957\n",
      "Epoch 18/50\n",
      "48/48 [==============================] - 0s 6ms/step - loss: 0.1818 - val_loss: 0.1928\n",
      "Epoch 19/50\n",
      "48/48 [==============================] - 0s 6ms/step - loss: 0.1811 - val_loss: 0.1916\n",
      "Epoch 20/50\n",
      "48/48 [==============================] - 0s 6ms/step - loss: 0.1803 - val_loss: 0.1943\n",
      "Epoch 21/50\n",
      "48/48 [==============================] - 0s 8ms/step - loss: 0.1799 - val_loss: 0.1937\n",
      "Epoch 22/50\n",
      "48/48 [==============================] - 0s 6ms/step - loss: 0.1793 - val_loss: 0.1935\n",
      "Epoch 23/50\n",
      "48/48 [==============================] - 0s 6ms/step - loss: 0.1787 - val_loss: 0.1925\n",
      "Epoch 24/50\n",
      "48/48 [==============================] - 0s 6ms/step - loss: 0.1778 - val_loss: 0.1932\n",
      "Epoch 25/50\n",
      "48/48 [==============================] - 0s 7ms/step - loss: 0.1775 - val_loss: 0.1953\n",
      "Epoch 26/50\n",
      "48/48 [==============================] - 0s 6ms/step - loss: 0.1767 - val_loss: 0.1941\n",
      "Epoch 27/50\n",
      "48/48 [==============================] - 0s 6ms/step - loss: 0.1764 - val_loss: 0.1952\n",
      "Epoch 28/50\n",
      "48/48 [==============================] - 0s 7ms/step - loss: 0.1758 - val_loss: 0.1933\n",
      "Epoch 29/50\n",
      "48/48 [==============================] - 0s 7ms/step - loss: 0.1759 - val_loss: 0.1940\n",
      "Epoch 30/50\n",
      "48/48 [==============================] - 0s 8ms/step - loss: 0.1758 - val_loss: 0.1942\n",
      "Epoch 31/50\n",
      "48/48 [==============================] - 0s 10ms/step - loss: 0.1743 - val_loss: 0.1951\n",
      "Epoch 32/50\n",
      "48/48 [==============================] - 0s 6ms/step - loss: 0.1743 - val_loss: 0.1959\n",
      "Epoch 33/50\n",
      "48/48 [==============================] - 0s 6ms/step - loss: 0.1739 - val_loss: 0.1954\n",
      "Epoch 34/50\n",
      "48/48 [==============================] - 0s 5ms/step - loss: 0.1728 - val_loss: 0.1961\n",
      "Epoch 35/50\n",
      "48/48 [==============================] - 0s 6ms/step - loss: 0.1734 - val_loss: 0.1960\n",
      "Epoch 36/50\n",
      "48/48 [==============================] - 0s 6ms/step - loss: 0.1721 - val_loss: 0.1957\n",
      "Epoch 37/50\n",
      "48/48 [==============================] - 0s 6ms/step - loss: 0.1722 - val_loss: 0.1992\n",
      "Epoch 38/50\n",
      "48/48 [==============================] - 0s 6ms/step - loss: 0.1707 - val_loss: 0.1962\n",
      "Epoch 39/50\n",
      "48/48 [==============================] - 0s 5ms/step - loss: 0.1704 - val_loss: 0.1982\n",
      "Epoch 40/50\n",
      "48/48 [==============================] - 0s 6ms/step - loss: 0.1704 - val_loss: 0.1983\n",
      "Epoch 41/50\n",
      "48/48 [==============================] - 0s 5ms/step - loss: 0.1696 - val_loss: 0.1979\n",
      "Epoch 42/50\n",
      "48/48 [==============================] - 0s 8ms/step - loss: 0.1703 - val_loss: 0.1977\n",
      "Epoch 43/50\n",
      "48/48 [==============================] - 0s 6ms/step - loss: 0.1698 - val_loss: 0.1990\n",
      "Epoch 44/50\n",
      "48/48 [==============================] - 0s 5ms/step - loss: 0.1683 - val_loss: 0.1973\n",
      "Epoch 45/50\n",
      "48/48 [==============================] - 0s 6ms/step - loss: 0.1683 - val_loss: 0.1989\n",
      "Epoch 46/50\n",
      "48/48 [==============================] - 0s 6ms/step - loss: 0.1678 - val_loss: 0.1993\n",
      "Epoch 47/50\n",
      "48/48 [==============================] - 0s 6ms/step - loss: 0.1675 - val_loss: 0.1992\n",
      "Epoch 48/50\n",
      "48/48 [==============================] - 0s 6ms/step - loss: 0.1670 - val_loss: 0.2000\n",
      "Epoch 49/50\n",
      "48/48 [==============================] - 0s 6ms/step - loss: 0.1673 - val_loss: 0.1986\n",
      "Epoch 50/50\n",
      "48/48 [==============================] - 0s 6ms/step - loss: 0.1666 - val_loss: 0.1995\n",
      "Minimum Validation Loss: 0.1905\n"
     ]
    },
    {
     "data": {
      "image/png": "[encoded data removed]",
      "text/plain": [
       "<Figure size 640x480 with 1 Axes>"
      ]
     },
     "metadata": {},
     "output_type": "display_data"
    }
   ],
   "source": [
    "model = keras.Sequential([\n",
    "    layers.Dense(128, activation='relu', input_shape=input_shape),\n",
    "    layers.Dense(64, activation='relu'),\n",
    "    layers.Dense(1)\n",
    "])\n",
    "model.compile(\n",
    "    optimizer='adam',\n",
    "    loss='mae',\n",
    ")\n",
    "history = model.fit(\n",
    "    X_train, y_train,\n",
    "    validation_data=(X_valid, y_valid),\n",
    "    batch_size=512,\n",
    "    epochs=50,\n",
    ")\n",
    "history_df = pd.DataFrame(history.history)\n",
    "history_df.loc[:,['loss','val_loss']].plot()\n",
    "print(\"Minimum Validation Loss: {:0.4f}\".format(history_df['val_loss'].min()))"
   ]
  },
  {
   "cell_type": "markdown",
   "metadata": {},
   "source": [
    "Now the validation loss begins to rise very early, while the training loss continues to decrease. This indicates that the network has begun to overfit. At this point, we would need to try something to prevent it, either by reducing the number of units or through a method like early stopping."
   ]
  },
  {
   "cell_type": "markdown",
   "metadata": {},
   "source": [
    "### Define Early Stopping Callback\n",
    "- waits 5 epochs: `patience`\n",
    "- change in validation loss: at least 0.001: `min_delta`\n",
    "- keeps the weights with the best loss: `restore_best_weights`"
   ]
  },
  {
   "cell_type": "code",
   "execution_count": 11,
   "metadata": {},
   "outputs": [],
   "source": [
    "from tensorflow.keras import callbacks\n",
    "\n",
    "early_stopping = callbacks.EarlyStopping(\n",
    "    min_delta=0.001,\n",
    "    patience=5,\n",
    "    restore_best_weights=True,\n",
    ")"
   ]
  },
  {
   "cell_type": "markdown",
   "metadata": {},
   "source": [
    "### Train the model depending on the observation above"
   ]
  },
  {
   "cell_type": "code",
   "execution_count": 15,
   "metadata": {},
   "outputs": [
    {
     "name": "stdout",
     "output_type": "stream",
     "text": [
      "Epoch 1/50\n",
      "48/48 [==============================] - 1s 11ms/step - loss: 0.2575 - val_loss: 0.2053\n",
      "Epoch 2/50\n",
      "48/48 [==============================] - 0s 5ms/step - loss: 0.2043 - val_loss: 0.1981\n",
      "Epoch 3/50\n",
      "48/48 [==============================] - 0s 5ms/step - loss: 0.1989 - val_loss: 0.1948\n",
      "Epoch 4/50\n",
      "48/48 [==============================] - 0s 8ms/step - loss: 0.1956 - val_loss: 0.1929\n",
      "Epoch 5/50\n",
      "48/48 [==============================] - 0s 6ms/step - loss: 0.1937 - val_loss: 0.1918\n",
      "Epoch 6/50\n",
      "48/48 [==============================] - 0s 7ms/step - loss: 0.1917 - val_loss: 0.1915\n",
      "Epoch 7/50\n",
      "48/48 [==============================] - 0s 6ms/step - loss: 0.1904 - val_loss: 0.1913\n",
      "Epoch 8/50\n",
      "48/48 [==============================] - 0s 5ms/step - loss: 0.1892 - val_loss: 0.1908\n",
      "Epoch 9/50\n",
      "48/48 [==============================] - 0s 5ms/step - loss: 0.1878 - val_loss: 0.1908\n",
      "Epoch 10/50\n",
      "48/48 [==============================] - 0s 7ms/step - loss: 0.1870 - val_loss: 0.1921\n",
      "Minimum Validation loss: {0.4f}.format(history_df['val_loss']).min()\n"
     ]
    },
    {
     "data": {
      "image/png": "[encoded data removed]",
      "text/plain": [
       "<Figure size 640x480 with 1 Axes>"
      ]
     },
     "metadata": {},
     "output_type": "display_data"
    }
   ],
   "source": [
    "model = keras.Sequential([\n",
    "    layers.Dense(128, activation='relu', input_shape=input_shape),\n",
    "    layers.Dense(64, activation='relu'),\n",
    "    layers.Dense(1)\n",
    "])\n",
    "model.compile(\n",
    "    optimizer='adam',\n",
    "    loss='mae',\n",
    ")\n",
    "history = model.fit(\n",
    "    X_train, y_train,\n",
    "    validation_data = (X_valid, y_valid),\n",
    "    batch_size=512,\n",
    "    epochs=50,\n",
    "    callbacks=[early_stopping]\n",
    ")\n",
    "history_df = pd.DataFrame(history.history)\n",
    "history_df.loc[:,['loss','val_loss']].plot()\n",
    "print(\"Minimum Validation loss: {0.4f}.format(history_df['val_loss']).min()\")"
   ]
  }
 ],
 "metadata": {
  "kernelspec": {
   "display_name": "newenv",
   "language": "python",
   "name": "python3"
  },
  "language_info": {
   "codemirror_mode": {
    "name": "ipython",
    "version": 3
   },
   "file_extension": ".py",
   "mimetype": "text/x-python",
   "name": "python",
   "nbconvert_exporter": "python",
   "pygments_lexer": "ipython3",
   "version": "3.10.13"
  }
 },
 "nbformat": 4,
 "nbformat_minor": 2
}
